{
 "cells": [
  {
   "cell_type": "code",
   "execution_count": 6,
   "id": "94384807",
   "metadata": {},
   "outputs": [],
   "source": [
    "import tkinter as tk\n",
    "import textdistance\n",
    "\n",
    "def correct_word():\n",
    "    user_input = entry.get()\n",
    "    nearest_words = find_nearest_words(user_input)\n",
    "    result_label.config(text=f\"Nearest Words: {', '.join(nearest_words)}\")\n",
    "\n",
    "def find_nearest_words(word):\n",
    "\n",
    "    dictionary = ['Table', 'Chair', 'Suitcase', 'Internship', 'Purple', 'Head', 'Remote']\n",
    "\n",
    "\n",
    "    similarities = [(w, textdistance.levenshtein.normalized_similarity(word, w)) for w in dictionary]\n",
    "\n",
    "\n",
    "    sorted_similarities = sorted(similarities, key=lambda x: x[1], reverse=True)\n",
    "\n",
    "\n",
    "    nearest_words = [word for word, similarity in sorted_similarities if similarity > 0.5]\n",
    "    return nearest_words\n",
    "\n",
    "\n",
    "app = tk.Tk()\n",
    "app.title(\"Auto Correct Tool\")\n",
    "app.geometry(\"400x150\")\n",
    "\n",
    "\n",
    "entry = tk.Entry(app, width=30, font=(\"Helvetica\", 14))\n",
    "entry.pack(pady=20)\n",
    "\n",
    "button_frame = tk.Frame(app)\n",
    "button_frame.pack()\n",
    "\n",
    "correct_button = tk.Button(button_frame, text=\"Correct\", command=correct_word, bg=\"black\", fg=\"white\", font=(\"Helvetica\", 12))\n",
    "correct_button.pack(side=tk.LEFT, padx=10)\n",
    "\n",
    "clear_button = tk.Button(button_frame, text=\"Clear\", command=lambda: entry.delete(0, tk.END), bg=\"black\", fg=\"white\", font=(\"Helvetica\", 12))\n",
    "clear_button.pack(side=tk.LEFT, padx=10)\n",
    "\n",
    "\n",
    "result_label = tk.Label(app, text=\"\", font=(\"Helvetica\", 12))\n",
    "result_label.pack(pady=20)\n",
    "\n",
    "app.mainloop()"
   ]
  },
  {
   "cell_type": "code",
   "execution_count": null,
   "id": "0d5247ef",
   "metadata": {},
   "outputs": [],
   "source": []
  }
 ],
 "metadata": {
  "kernelspec": {
   "display_name": "Python 3 (ipykernel)",
   "language": "python",
   "name": "python3"
  },
  "language_info": {
   "codemirror_mode": {
    "name": "ipython",
    "version": 3
   },
   "file_extension": ".py",
   "mimetype": "text/x-python",
   "name": "python",
   "nbconvert_exporter": "python",
   "pygments_lexer": "ipython3",
   "version": "3.11.4"
  }
 },
 "nbformat": 4,
 "nbformat_minor": 5
}
